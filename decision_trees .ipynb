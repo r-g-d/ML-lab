{
 "cells": [
  {
   "cell_type": "code",
   "execution_count": 1,
   "metadata": {
    "id": "fJu81-xwrD6Q"
   },
   "outputs": [],
   "source": [
    "import pandas as pd\n",
    "import numpy as np\n",
    "from sklearn.model_selection import train_test_split, cross_val_score\n",
    "from sklearn.tree import DecisionTreeClassifier, plot_tree\n",
    "from sklearn.metrics import confusion_matrix\n",
    "import matplotlib.pyplot as plt"
   ]
  },
  {
   "cell_type": "code",
   "execution_count": 2,
   "metadata": {
    "id": "snOL3inZsrEJ"
   },
   "outputs": [],
   "source": [
    "url = \"https://archive.ics.uci.edu/ml/machine-learning-databases/heart-disease/processed.cleveland.data\"\n",
    "names = ['age', 'sex', 'cp', 'restbp', 'chol', 'fbs', 'restecg', 'thalach', 'exang', 'oldpeak', 'slope', 'ca', 'thal', 'hd']\n",
    "data = pd.read_csv(url, names=names)\n"
   ]
  },
  {
   "cell_type": "code",
   "execution_count": 3,
   "metadata": {
    "id": "x__omMA3s5Sm"
   },
   "outputs": [],
   "source": [
    "# Replace missing values with NaN\n",
    "data.replace('?', np.nan, inplace=True)"
   ]
  },
  {
   "cell_type": "code",
   "execution_count": 4,
   "metadata": {
    "id": "bgCr8qU2s784"
   },
   "outputs": [],
   "source": [
    "# Convert columns to numeric\n",
    "data = data.apply(pd.to_numeric, errors='coerce')\n"
   ]
  },
  {
   "cell_type": "code",
   "execution_count": 5,
   "metadata": {
    "colab": {
     "base_uri": "https://localhost:8080/",
     "height": 226
    },
    "id": "ftw3V9AXs-Vy",
    "outputId": "4d70f034-4b75-4678-acc4-7f880d9639d0"
   },
   "outputs": [
    {
     "data": {
      "text/html": [
       "<div>\n",
       "<style scoped>\n",
       "    .dataframe tbody tr th:only-of-type {\n",
       "        vertical-align: middle;\n",
       "    }\n",
       "\n",
       "    .dataframe tbody tr th {\n",
       "        vertical-align: top;\n",
       "    }\n",
       "\n",
       "    .dataframe thead th {\n",
       "        text-align: right;\n",
       "    }\n",
       "</style>\n",
       "<table border=\"1\" class=\"dataframe\">\n",
       "  <thead>\n",
       "    <tr style=\"text-align: right;\">\n",
       "      <th></th>\n",
       "      <th>age</th>\n",
       "      <th>sex</th>\n",
       "      <th>cp</th>\n",
       "      <th>restbp</th>\n",
       "      <th>chol</th>\n",
       "      <th>fbs</th>\n",
       "      <th>restecg</th>\n",
       "      <th>thalach</th>\n",
       "      <th>exang</th>\n",
       "      <th>oldpeak</th>\n",
       "      <th>slope</th>\n",
       "      <th>ca</th>\n",
       "      <th>thal</th>\n",
       "      <th>hd</th>\n",
       "    </tr>\n",
       "  </thead>\n",
       "  <tbody>\n",
       "    <tr>\n",
       "      <th>0</th>\n",
       "      <td>63.0</td>\n",
       "      <td>1.0</td>\n",
       "      <td>1.0</td>\n",
       "      <td>145.0</td>\n",
       "      <td>233.0</td>\n",
       "      <td>1.0</td>\n",
       "      <td>2.0</td>\n",
       "      <td>150.0</td>\n",
       "      <td>0.0</td>\n",
       "      <td>2.3</td>\n",
       "      <td>3.0</td>\n",
       "      <td>0.0</td>\n",
       "      <td>6.0</td>\n",
       "      <td>0</td>\n",
       "    </tr>\n",
       "    <tr>\n",
       "      <th>1</th>\n",
       "      <td>67.0</td>\n",
       "      <td>1.0</td>\n",
       "      <td>4.0</td>\n",
       "      <td>160.0</td>\n",
       "      <td>286.0</td>\n",
       "      <td>0.0</td>\n",
       "      <td>2.0</td>\n",
       "      <td>108.0</td>\n",
       "      <td>1.0</td>\n",
       "      <td>1.5</td>\n",
       "      <td>2.0</td>\n",
       "      <td>3.0</td>\n",
       "      <td>3.0</td>\n",
       "      <td>2</td>\n",
       "    </tr>\n",
       "    <tr>\n",
       "      <th>2</th>\n",
       "      <td>67.0</td>\n",
       "      <td>1.0</td>\n",
       "      <td>4.0</td>\n",
       "      <td>120.0</td>\n",
       "      <td>229.0</td>\n",
       "      <td>0.0</td>\n",
       "      <td>2.0</td>\n",
       "      <td>129.0</td>\n",
       "      <td>1.0</td>\n",
       "      <td>2.6</td>\n",
       "      <td>2.0</td>\n",
       "      <td>2.0</td>\n",
       "      <td>7.0</td>\n",
       "      <td>1</td>\n",
       "    </tr>\n",
       "    <tr>\n",
       "      <th>3</th>\n",
       "      <td>37.0</td>\n",
       "      <td>1.0</td>\n",
       "      <td>3.0</td>\n",
       "      <td>130.0</td>\n",
       "      <td>250.0</td>\n",
       "      <td>0.0</td>\n",
       "      <td>0.0</td>\n",
       "      <td>187.0</td>\n",
       "      <td>0.0</td>\n",
       "      <td>3.5</td>\n",
       "      <td>3.0</td>\n",
       "      <td>0.0</td>\n",
       "      <td>3.0</td>\n",
       "      <td>0</td>\n",
       "    </tr>\n",
       "    <tr>\n",
       "      <th>4</th>\n",
       "      <td>41.0</td>\n",
       "      <td>0.0</td>\n",
       "      <td>2.0</td>\n",
       "      <td>130.0</td>\n",
       "      <td>204.0</td>\n",
       "      <td>0.0</td>\n",
       "      <td>2.0</td>\n",
       "      <td>172.0</td>\n",
       "      <td>0.0</td>\n",
       "      <td>1.4</td>\n",
       "      <td>1.0</td>\n",
       "      <td>0.0</td>\n",
       "      <td>3.0</td>\n",
       "      <td>0</td>\n",
       "    </tr>\n",
       "  </tbody>\n",
       "</table>\n",
       "</div>"
      ],
      "text/plain": [
       "    age  sex   cp  restbp   chol  fbs  restecg  thalach  exang  oldpeak  \\\n",
       "0  63.0  1.0  1.0   145.0  233.0  1.0      2.0    150.0    0.0      2.3   \n",
       "1  67.0  1.0  4.0   160.0  286.0  0.0      2.0    108.0    1.0      1.5   \n",
       "2  67.0  1.0  4.0   120.0  229.0  0.0      2.0    129.0    1.0      2.6   \n",
       "3  37.0  1.0  3.0   130.0  250.0  0.0      0.0    187.0    0.0      3.5   \n",
       "4  41.0  0.0  2.0   130.0  204.0  0.0      2.0    172.0    0.0      1.4   \n",
       "\n",
       "   slope   ca  thal  hd  \n",
       "0    3.0  0.0   6.0   0  \n",
       "1    2.0  3.0   3.0   2  \n",
       "2    2.0  2.0   7.0   1  \n",
       "3    3.0  0.0   3.0   0  \n",
       "4    1.0  0.0   3.0   0  "
      ]
     },
     "execution_count": 5,
     "metadata": {},
     "output_type": "execute_result"
    }
   ],
   "source": [
    "# Drop rows with missing values\n",
    "data.dropna(inplace=True)\n",
    "data.head()"
   ]
  },
  {
   "cell_type": "code",
   "execution_count": 6,
   "metadata": {
    "colab": {
     "base_uri": "https://localhost:8080/"
    },
    "id": "BZdajYaUtAM6",
    "outputId": "97b94c7e-147d-4049-e526-32c76f663f8b"
   },
   "outputs": [
    {
     "name": "stdout",
     "output_type": "stream",
     "text": [
      "0      False\n",
      "1       True\n",
      "2       True\n",
      "3      False\n",
      "4      False\n",
      "       ...  \n",
      "297     True\n",
      "298     True\n",
      "299     True\n",
      "300     True\n",
      "301     True\n",
      "Name: hd, Length: 297, dtype: bool\n"
     ]
    }
   ],
   "source": [
    "# Split data into features and target\n",
    "X = data.drop('hd', axis=1)\n",
    "y = data['hd']\n",
    "y = y >= 1\n",
    "print(y)"
   ]
  },
  {
   "cell_type": "code",
   "execution_count": 7,
   "metadata": {
    "id": "kvuQxJFptLrM"
   },
   "outputs": [],
   "source": [
    "# Encoding categorical variables\n",
    "X_encoded = pd.get_dummies(X, columns=['sex', 'cp', 'fbs', 'restecg', 'exang', 'slope', 'thal'])"
   ]
  },
  {
   "cell_type": "code",
   "execution_count": 8,
   "metadata": {
    "colab": {
     "base_uri": "https://localhost:8080/"
    },
    "id": "Q3m4VIaitN7K",
    "outputId": "c5319514-3142-4dad-d836-1e84f17218d6"
   },
   "outputs": [
    {
     "name": "stdout",
     "output_type": "stream",
     "text": [
      "277    False\n",
      "262    False\n",
      "30     False\n",
      "22      True\n",
      "281    False\n",
      "       ...  \n",
      "190    False\n",
      "71      True\n",
      "107     True\n",
      "274     True\n",
      "103    False\n",
      "Name: hd, Length: 237, dtype: bool\n"
     ]
    }
   ],
   "source": [
    "# Splitting data into train and test sets\n",
    "X_train, X_test, y_train, y_test = train_test_split(X_encoded, y, test_size=0.2, random_state=42)\n",
    "print(y_train)"
   ]
  },
  {
   "cell_type": "code",
   "execution_count": 9,
   "metadata": {
    "colab": {
     "base_uri": "https://localhost:8080/",
     "height": 74
    },
    "id": "SJoNbRkwtPpf",
    "outputId": "e9ecf394-ee6b-4e3f-92fe-215955729905"
   },
   "outputs": [
    {
     "data": {
      "text/plain": [
       "DecisionTreeClassifier()"
      ]
     },
     "execution_count": 9,
     "metadata": {},
     "output_type": "execute_result"
    }
   ],
   "source": [
    "# Building the Decision Tree model\n",
    "clf = DecisionTreeClassifier(criterion='gini')\n",
    "clf.fit(X_train, y_train)"
   ]
  },
  {
   "cell_type": "code",
   "execution_count": 10,
   "metadata": {
    "colab": {
     "base_uri": "https://localhost:8080/",
     "height": 472
    },
    "id": "X5hpPXZftTGP",
    "outputId": "51b9bf1e-b81c-4f76-dbbe-e191ed6631fe"
   },
   "outputs": [
    {
     "data": {
      "image/png": "[encoded data removed]",
      "text/plain": [
       "<Figure size 432x288 with 2 Axes>"
      ]
     },
     "metadata": {
      "needs_background": "light"
     },
     "output_type": "display_data"
    }
   ],
   "source": [
    "# Importing necessary library\n",
    "from sklearn.metrics import ConfusionMatrixDisplay\n",
    "\n",
    "# Predict on the test set\n",
    "y_pred = clf.predict(X_test)\n",
    "\n",
    "# Compute confusion matrix\n",
    "conf_matrix = confusion_matrix(y_test, y_pred)\n",
    "\n",
    "# Plot confusion matrix using ConfusionMatrixDisplay\n",
    "disp = ConfusionMatrixDisplay(confusion_matrix=conf_matrix, display_labels=[\"No disease\",\"Disease\"])\n",
    "disp.plot(cmap=plt.cm.Blues)\n",
    "plt.title('Confusion Matrix')\n",
    "plt.show()"
   ]
  },
  {
   "cell_type": "code",
   "execution_count": 11,
   "metadata": {
    "colab": {
     "base_uri": "https://localhost:8080/",
     "height": 472
    },
    "id": "o45zCYVztZ9M",
    "outputId": "b4979e00-416e-4c3c-a3b7-3fb1da35d6bd"
   },
   "outputs": [
    {
     "data": {
      "image/png": "[encoded data removed]",
      "text/plain": [
       "<Figure size 432x288 with 1 Axes>"
      ]
     },
     "metadata": {
      "needs_background": "light"
     },
     "output_type": "display_data"
    }
   ],
   "source": [
    "# Finding cross-validation score and plotting it\n",
    "cv_scores = cross_val_score(clf, X_encoded, y, cv=5)\n",
    "plt.plot(range(1, 6), cv_scores)\n",
    "plt.xlabel('Fold')\n",
    "plt.ylabel('Cross-validation Score')\n",
    "plt.title('Cross-validation Score vs. Fold')\n",
    "plt.show()"
   ]
  },
  {
   "cell_type": "code",
   "execution_count": 17,
   "metadata": {
    "id": "K7IFtbq_tciW",
    "scrolled": true
   },
   "outputs": [
    {
     "data": {
      "text/plain": [
       "[Text(198.60066964285716, 207.55636363636364, 'ca <= 0.5\\ngini = 0.499\\nsamples = 237\\nvalue = [124, 113]\\nclass = Yes'),\n",
       " Text(123.68169642857143, 187.7890909090909, 'thal_7.0 <= 0.5\\ngini = 0.384\\nsamples = 139\\nvalue = [103, 36]\\nclass = Yes'),\n",
       " Text(75.47946428571429, 168.0218181818182, 'oldpeak <= 2.7\\ngini = 0.243\\nsamples = 99\\nvalue = [85, 14]\\nclass = Yes'),\n",
       " Text(49.323214285714286, 148.25454545454545, 'age <= 57.5\\ngini = 0.192\\nsamples = 93\\nvalue = [83, 10]\\nclass = Yes'),\n",
       " Text(23.914285714285715, 128.48727272727274, 'thalach <= 125.5\\ngini = 0.062\\nsamples = 62\\nvalue = [60, 2]\\nclass = Yes'),\n",
       " Text(11.957142857142857, 108.72, 'thal_3.0 <= 0.5\\ngini = 0.5\\nsamples = 2\\nvalue = [1, 1]\\nclass = Yes'),\n",
       " Text(5.978571428571429, 88.95272727272729, 'gini = 0.0\\nsamples = 1\\nvalue = [0, 1]\\nclass = No'),\n",
       " Text(17.935714285714287, 88.95272727272729, 'gini = 0.0\\nsamples = 1\\nvalue = [1, 0]\\nclass = Yes'),\n",
       " Text(35.871428571428574, 108.72, 'restbp <= 109.0\\ngini = 0.033\\nsamples = 60\\nvalue = [59, 1]\\nclass = Yes'),\n",
       " Text(29.892857142857142, 88.95272727272729, 'sex_1.0 <= 0.5\\ngini = 0.375\\nsamples = 4\\nvalue = [3, 1]\\nclass = Yes'),\n",
       " Text(23.914285714285715, 69.18545454545455, 'gini = 0.0\\nsamples = 2\\nvalue = [2, 0]\\nclass = Yes'),\n",
       " Text(35.871428571428574, 69.18545454545455, 'exang_1.0 <= 0.5\\ngini = 0.5\\nsamples = 2\\nvalue = [1, 1]\\nclass = Yes'),\n",
       " Text(29.892857142857142, 49.418181818181836, 'gini = 0.0\\nsamples = 1\\nvalue = [0, 1]\\nclass = No'),\n",
       " Text(41.85, 49.418181818181836, 'gini = 0.0\\nsamples = 1\\nvalue = [1, 0]\\nclass = Yes'),\n",
       " Text(41.85, 88.95272727272729, 'gini = 0.0\\nsamples = 56\\nvalue = [56, 0]\\nclass = Yes'),\n",
       " Text(74.73214285714286, 128.48727272727274, 'chol <= 235.0\\ngini = 0.383\\nsamples = 31\\nvalue = [23, 8]\\nclass = Yes'),\n",
       " Text(59.785714285714285, 108.72, 'exang_0.0 <= 0.5\\ngini = 0.142\\nsamples = 13\\nvalue = [12, 1]\\nclass = Yes'),\n",
       " Text(53.80714285714286, 88.95272727272729, 'thalach <= 140.0\\ngini = 0.5\\nsamples = 2\\nvalue = [1, 1]\\nclass = Yes'),\n",
       " Text(47.82857142857143, 69.18545454545455, 'gini = 0.0\\nsamples = 1\\nvalue = [0, 1]\\nclass = No'),\n",
       " Text(59.785714285714285, 69.18545454545455, 'gini = 0.0\\nsamples = 1\\nvalue = [1, 0]\\nclass = Yes'),\n",
       " Text(65.76428571428572, 88.95272727272729, 'gini = 0.0\\nsamples = 11\\nvalue = [11, 0]\\nclass = Yes'),\n",
       " Text(89.67857142857143, 108.72, 'oldpeak <= 1.3\\ngini = 0.475\\nsamples = 18\\nvalue = [11, 7]\\nclass = Yes'),\n",
       " Text(83.7, 88.95272727272729, 'oldpeak <= 0.2\\ngini = 0.43\\nsamples = 16\\nvalue = [11, 5]\\nclass = Yes'),\n",
       " Text(71.74285714285715, 69.18545454545455, 'thalach <= 170.5\\ngini = 0.5\\nsamples = 8\\nvalue = [4, 4]\\nclass = Yes'),\n",
       " Text(65.76428571428572, 49.418181818181836, 'age <= 62.5\\ngini = 0.444\\nsamples = 6\\nvalue = [2, 4]\\nclass = No'),\n",
       " Text(59.785714285714285, 29.650909090909096, 'gini = 0.0\\nsamples = 3\\nvalue = [0, 3]\\nclass = No'),\n",
       " Text(71.74285714285715, 29.650909090909096, 'cp_3.0 <= 0.5\\ngini = 0.444\\nsamples = 3\\nvalue = [2, 1]\\nclass = Yes'),\n",
       " Text(65.76428571428572, 9.883636363636384, 'gini = 0.0\\nsamples = 2\\nvalue = [2, 0]\\nclass = Yes'),\n",
       " Text(77.72142857142858, 9.883636363636384, 'gini = 0.0\\nsamples = 1\\nvalue = [0, 1]\\nclass = No'),\n",
       " Text(77.72142857142858, 49.418181818181836, 'gini = 0.0\\nsamples = 2\\nvalue = [2, 0]\\nclass = Yes'),\n",
       " Text(95.65714285714286, 69.18545454545455, 'chol <= 238.5\\ngini = 0.219\\nsamples = 8\\nvalue = [7, 1]\\nclass = Yes'),\n",
       " Text(89.67857142857143, 49.418181818181836, 'gini = 0.0\\nsamples = 1\\nvalue = [0, 1]\\nclass = No'),\n",
       " Text(101.63571428571429, 49.418181818181836, 'gini = 0.0\\nsamples = 7\\nvalue = [7, 0]\\nclass = Yes'),\n",
       " Text(95.65714285714286, 88.95272727272729, 'gini = 0.0\\nsamples = 2\\nvalue = [0, 2]\\nclass = No'),\n",
       " Text(101.63571428571429, 148.25454545454545, 'thalach <= 147.5\\ngini = 0.444\\nsamples = 6\\nvalue = [2, 4]\\nclass = No'),\n",
       " Text(95.65714285714286, 128.48727272727274, 'gini = 0.0\\nsamples = 3\\nvalue = [0, 3]\\nclass = No'),\n",
       " Text(107.61428571428571, 128.48727272727274, 'age <= 52.5\\ngini = 0.444\\nsamples = 3\\nvalue = [2, 1]\\nclass = Yes'),\n",
       " Text(101.63571428571429, 108.72, 'gini = 0.0\\nsamples = 2\\nvalue = [2, 0]\\nclass = Yes'),\n",
       " Text(113.59285714285714, 108.72, 'gini = 0.0\\nsamples = 1\\nvalue = [0, 1]\\nclass = No'),\n",
       " Text(171.88392857142858, 168.0218181818182, 'cp_4.0 <= 0.5\\ngini = 0.495\\nsamples = 40\\nvalue = [18, 22]\\nclass = No'),\n",
       " Text(146.475, 148.25454545454545, 'thalach <= 152.0\\ngini = 0.42\\nsamples = 20\\nvalue = [14, 6]\\nclass = Yes'),\n",
       " Text(131.52857142857144, 128.48727272727274, 'oldpeak <= 0.8\\ngini = 0.444\\nsamples = 6\\nvalue = [2, 4]\\nclass = No'),\n",
       " Text(125.55, 108.72, 'cp_3.0 <= 0.5\\ngini = 0.444\\nsamples = 3\\nvalue = [2, 1]\\nclass = Yes'),\n",
       " Text(119.57142857142857, 88.95272727272729, 'gini = 0.0\\nsamples = 1\\nvalue = [0, 1]\\nclass = No'),\n",
       " Text(131.52857142857144, 88.95272727272729, 'gini = 0.0\\nsamples = 2\\nvalue = [2, 0]\\nclass = Yes'),\n",
       " Text(137.50714285714287, 108.72, 'gini = 0.0\\nsamples = 3\\nvalue = [0, 3]\\nclass = No'),\n",
       " Text(161.42142857142858, 128.48727272727274, 'slope_3.0 <= 0.5\\ngini = 0.245\\nsamples = 14\\nvalue = [12, 2]\\nclass = Yes'),\n",
       " Text(149.46428571428572, 108.72, 'age <= 58.5\\ngini = 0.153\\nsamples = 12\\nvalue = [11, 1]\\nclass = Yes'),\n",
       " Text(143.4857142857143, 88.95272727272729, 'gini = 0.0\\nsamples = 9\\nvalue = [9, 0]\\nclass = Yes'),\n",
       " Text(155.44285714285715, 88.95272727272729, 'oldpeak <= 0.4\\ngini = 0.444\\nsamples = 3\\nvalue = [2, 1]\\nclass = Yes'),\n",
       " Text(149.46428571428572, 69.18545454545455, 'gini = 0.0\\nsamples = 1\\nvalue = [0, 1]\\nclass = No'),\n",
       " Text(161.42142857142858, 69.18545454545455, 'gini = 0.0\\nsamples = 2\\nvalue = [2, 0]\\nclass = Yes'),\n",
       " Text(173.37857142857143, 108.72, 'age <= 45.0\\ngini = 0.5\\nsamples = 2\\nvalue = [1, 1]\\nclass = Yes'),\n",
       " Text(167.4, 88.95272727272729, 'gini = 0.0\\nsamples = 1\\nvalue = [1, 0]\\nclass = Yes'),\n",
       " Text(179.35714285714286, 88.95272727272729, 'gini = 0.0\\nsamples = 1\\nvalue = [0, 1]\\nclass = No'),\n",
       " Text(197.29285714285714, 148.25454545454545, 'oldpeak <= 0.45\\ngini = 0.32\\nsamples = 20\\nvalue = [4, 16]\\nclass = No'),\n",
       " Text(191.31428571428572, 128.48727272727274, 'age <= 42.0\\ngini = 0.49\\nsamples = 7\\nvalue = [4, 3]\\nclass = Yes'),\n",
       " Text(185.3357142857143, 108.72, 'gini = 0.0\\nsamples = 3\\nvalue = [0, 3]\\nclass = No'),\n",
       " Text(197.29285714285714, 108.72, 'gini = 0.0\\nsamples = 4\\nvalue = [4, 0]\\nclass = Yes'),\n",
       " Text(203.27142857142857, 128.48727272727274, 'gini = 0.0\\nsamples = 13\\nvalue = [0, 13]\\nclass = No'),\n",
       " Text(273.51964285714286, 187.7890909090909, 'cp_4.0 <= 0.5\\ngini = 0.337\\nsamples = 98\\nvalue = [21, 77]\\nclass = No'),\n",
       " Text(242.13214285714287, 168.0218181818182, 'oldpeak <= 0.35\\ngini = 0.5\\nsamples = 34\\nvalue = [17, 17]\\nclass = Yes'),\n",
       " Text(221.20714285714286, 148.25454545454545, 'cp_2.0 <= 0.5\\ngini = 0.375\\nsamples = 16\\nvalue = [12, 4]\\nclass = Yes'),\n",
       " Text(215.22857142857143, 128.48727272727274, 'gini = 0.0\\nsamples = 9\\nvalue = [9, 0]\\nclass = Yes'),\n",
       " Text(227.18571428571428, 128.48727272727274, 'restbp <= 134.0\\ngini = 0.49\\nsamples = 7\\nvalue = [3, 4]\\nclass = No'),\n",
       " Text(221.20714285714286, 108.72, 'slope_1.0 <= 0.5\\ngini = 0.375\\nsamples = 4\\nvalue = [3, 1]\\nclass = Yes'),\n",
       " Text(215.22857142857143, 88.95272727272729, 'gini = 0.0\\nsamples = 1\\nvalue = [0, 1]\\nclass = No'),\n",
       " Text(227.18571428571428, 88.95272727272729, 'gini = 0.0\\nsamples = 3\\nvalue = [3, 0]\\nclass = Yes'),\n",
       " Text(233.1642857142857, 108.72, 'gini = 0.0\\nsamples = 3\\nvalue = [0, 3]\\nclass = No'),\n",
       " Text(263.0571428571429, 148.25454545454545, 'slope_2.0 <= 0.5\\ngini = 0.401\\nsamples = 18\\nvalue = [5, 13]\\nclass = No'),\n",
       " Text(251.1, 128.48727272727274, 'chol <= 231.5\\ngini = 0.49\\nsamples = 7\\nvalue = [4, 3]\\nclass = Yes'),\n",
       " Text(245.12142857142857, 108.72, 'gini = 0.0\\nsamples = 3\\nvalue = [0, 3]\\nclass = No'),\n",
       " Text(257.0785714285714, 108.72, 'gini = 0.0\\nsamples = 4\\nvalue = [4, 0]\\nclass = Yes'),\n",
       " Text(275.01428571428573, 128.48727272727274, 'chol <= 232.0\\ngini = 0.165\\nsamples = 11\\nvalue = [1, 10]\\nclass = No'),\n",
       " Text(269.0357142857143, 108.72, 'restbp <= 129.0\\ngini = 0.444\\nsamples = 3\\nvalue = [1, 2]\\nclass = No'),\n",
       " Text(263.0571428571429, 88.95272727272729, 'gini = 0.0\\nsamples = 2\\nvalue = [0, 2]\\nclass = No'),\n",
       " Text(275.01428571428573, 88.95272727272729, 'gini = 0.0\\nsamples = 1\\nvalue = [1, 0]\\nclass = Yes'),\n",
       " Text(280.99285714285713, 108.72, 'gini = 0.0\\nsamples = 8\\nvalue = [0, 8]\\nclass = No'),\n",
       " Text(304.90714285714284, 168.0218181818182, 'restbp <= 109.0\\ngini = 0.117\\nsamples = 64\\nvalue = [4, 60]\\nclass = No'),\n",
       " Text(292.95, 148.25454545454545, 'thalach <= 151.5\\ngini = 0.5\\nsamples = 4\\nvalue = [2, 2]\\nclass = Yes'),\n",
       " Text(286.9714285714286, 128.48727272727274, 'gini = 0.0\\nsamples = 2\\nvalue = [2, 0]\\nclass = Yes'),\n",
       " Text(298.92857142857144, 128.48727272727274, 'gini = 0.0\\nsamples = 2\\nvalue = [0, 2]\\nclass = No'),\n",
       " Text(316.8642857142857, 148.25454545454545, 'age <= 63.5\\ngini = 0.064\\nsamples = 60\\nvalue = [2, 58]\\nclass = No'),\n",
       " Text(310.8857142857143, 128.48727272727274, 'gini = 0.0\\nsamples = 48\\nvalue = [0, 48]\\nclass = No'),\n",
       " Text(322.84285714285716, 128.48727272727274, 'age <= 64.5\\ngini = 0.278\\nsamples = 12\\nvalue = [2, 10]\\nclass = No'),\n",
       " Text(316.8642857142857, 108.72, 'restecg_0.0 <= 0.5\\ngini = 0.5\\nsamples = 4\\nvalue = [2, 2]\\nclass = Yes'),\n",
       " Text(310.8857142857143, 88.95272727272729, 'gini = 0.0\\nsamples = 2\\nvalue = [0, 2]\\nclass = No'),\n",
       " Text(322.84285714285716, 88.95272727272729, 'gini = 0.0\\nsamples = 2\\nvalue = [2, 0]\\nclass = Yes'),\n",
       " Text(328.82142857142856, 108.72, 'gini = 0.0\\nsamples = 8\\nvalue = [0, 8]\\nclass = No')]"
      ]
     },
     "execution_count": 17,
     "metadata": {},
     "output_type": "execute_result"
    },
    {
     "data": {
      "image/png": "[encoded data removed]",
      "text/plain": [
       "<Figure size 432x288 with 1 Axes>"
      ]
     },
     "metadata": {
      "needs_background": "light"
     },
     "output_type": "display_data"
    }
   ],
   "source": [
    "\n",
    "plot_tree(clf,filled=True,rounded=True,class_names=[\"Yes\",\"No\"],feature_names=X_encoded.columns)"
   ]
  },
  {
   "cell_type": "code",
   "execution_count": null,
   "metadata": {},
   "outputs": [],
   "source": []
  }
 ],
 "metadata": {
  "colab": {
   "provenance": []
  },
  "kernelspec": {
   "display_name": "Python 3",
   "language": "python",
   "name": "python3"
  },
  "language_info": {
   "codemirror_mode": {
    "name": "ipython",
    "version": 3
   },
   "file_extension": ".py",
   "mimetype": "text/x-python",
   "name": "python",
   "nbconvert_exporter": "python",
   "pygments_lexer": "ipython3",
   "version": "3.8.8"
  }
 },
 "nbformat": 4,
 "nbformat_minor": 1
}
